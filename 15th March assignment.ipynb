{
 "cells": [
  {
   "cell_type": "code",
   "execution_count": null,
   "metadata": {},
   "outputs": [],
   "source": [
    "Answer1:-\n",
    "(i) Artificial intelligence - Artificial intelligence is smart applications that can perform tasks without human interaction.\n",
    "example - \n",
    "Self Driving cars \n",
    "Robots etc.\n",
    "\n",
    "(ii) Machine learning - It is the subset of the Artificial intelligence . it provides the stats tools to learn , visulize , analyze\n",
    "and develope the predictive models from the data. \n",
    "example - \n",
    "Recommendation system etc.\n",
    "\n",
    "(iii) Deep learning - it Memics the Human Brain. { Multilayered Nural Network }\n",
    "example:\n",
    " ChatBot\n",
    " Object detection \n",
    " Image recognization etc."
   ]
  },
  {
   "cell_type": "markdown",
   "metadata": {},
   "source": [
    "Answer2.\n",
    "Supervised learning : it provides a dataset whose output features are known by us.\n",
    "it has two different types - \n",
    "1. CLASSIFICATION - In classification the output of the dataset are dependent and Categorical. we can predict the output \n",
    "                    through given some specific data.  \n",
    "example -\n",
    "Total Medicines are 5 and timings are same (5).\n",
    "\n",
    "Patient take Medicines     taking Time of Medicine.     output\n",
    "       1                           5                      Not get well soon.\n",
    "       2                           5                      Not Get well soon.\n",
    "       3                           5                      Note Get well soon.\n",
    "       4                           5                      May be Get well soon.\n",
    "       5                           5                      Get well soon.\n",
    "2. REGRESSION -  In regression the output of the dataset are also dependent. and the most importantly Continuous.\n",
    "                 The output are Continuously changed throught given specific type of data.\n",
    "example - \n",
    "Features of the car           Making process of car             Price.\n",
    " 10                                 10                             very low\n",
    " 15                                 10                              low \n",
    " 20                                 15                              Medium\n",
    " 25                                 15                              high\n",
    " 30                                 20                              Very High  \n"
   ]
  },
  {
   "cell_type": "markdown",
   "metadata": {},
   "source": [
    "Answer3.\n",
    " Unsupervised learning : It's also provide a dataset which will be cateogrized by us in the form of clusters or group of \n",
    "                        similar data. which helps to the persons to target desired customers who are intersted in doing some \n",
    "                        specific tasks like shoping. by Unsupervised Learning we can easily find that type of customers."
   ]
  },
  {
   "cell_type": "markdown",
   "metadata": {},
   "source": [
    "Answer4.\n",
    "Difference Between Artificial Intelligence , Machine learning , Deep Learning and Data science.\n",
    "\n",
    "Artificial Intelligence - Smart Applications that can perform their tasks without human interaction. \n",
    "\n",
    "Machine learning - Provides stats tools to learn , visulize , analyze , develope predictive Models.\n",
    "\n",
    "Deep Learning - It Memics the Human brain.{Multilayered Nural Network}\n",
    "\n",
    "Data Science - It is the combination of Artificial intelligence , Machine learning and deep learning  and also involves the \n",
    "other mathemetical consepts."
   ]
  },
  {
   "cell_type": "markdown",
   "metadata": {},
   "source": [
    "Answer5.\n",
    "Difference Between The Supervised and Unsupervised learning.\n",
    "In Supervised learning we know the output of the dataset but in the Unsupervised learning We didn't know what the specific\n",
    "output is. But in the semi supervised learning it is the mixture of Supervised and Unsupervised learning.\\\n",
    "we can perform supevised feature fistly and than Unsupervised feature.\n"
   ]
  },
  {
   "cell_type": "markdown",
   "metadata": {},
   "source": [
    "Answer6.\n",
    "Train , Test and validation split.\n",
    "\n",
    "Training Dataset - In the training dataset we will train the model. It is a most important term to develope the models.\n",
    "\n",
    "Validation dataset - In this term or dataset we Hyper tune or hyper parameter tune or validate our model to increase the \n",
    "performence and Accuracy of our Model.\n",
    "\n",
    "Finally We are on the last term or Last dataset.\n",
    "\n",
    "Test Dataset - In this Dataset we will test our model giving another test output for checking its Accuracy and performence\n",
    "and also test that the models is performing well or not."
   ]
  },
  {
   "cell_type": "markdown",
   "metadata": {},
   "source": [
    "Answer7.\n",
    "In Unsupervised learning anomaly detection involves identifying the Data points , that daviate significantly from the expected \n",
    "patterns and distribution  This can be achieve through several steps -\n",
    "\n",
    "1. Data Preparation - \n",
    "Cleaning :- Removing noise , outliers , irrelevant data.\n",
    "Impulation :- Handling missing data points.\n",
    "Standardization : - Scaling data to a common range.\n",
    "Dimensionality reduction :- Compressing data to focuse on relevant features.\n",
    "\n",
    "2.Understanding the Data - \n",
    "Clustering :- Grouping the similar data points into the clusters.\n",
    "Dimensity Estimation :- High or low data density ke regions ko pehchanna.\n",
    "Statistical Analysis :- Central tendency , dispersion aur variables ke beech relationship ko measure.\n",
    "\n",
    "3.Anomalies ko Pahachanna - \n",
    "Distance based methods :- Data points ke nearest neighbors ki distance calculate karna.\n",
    "                          Those Data Points who far from the their neighbors also knonw as Anomalies.\n",
    "Outlier scores method :- Data points ko scores assign karna unke density ya doosre measures ke besis par.\n",
    "jin data point ke paas kam score hote hai unko Anomaly mana jata hai.\n",
    "Statistical method :- Data points ke deviation ko measure karna expected statistical distribution se.\n",
    "                      Points jo Badi distribution dikhate hai unhe Anomalies mana jata hai.\n",
    "\n",
    "Here are some Important applications of Unsupervised Anomalies Detections.\n",
    "\n",
    "1.Fraud detection - Vyavsayik Transaction ke Dhokaadhadi ko pahachanna , through analysis of Vyay and expected behavior.\n",
    "2.Medical Diagnosis - Medical images or patient ke data me abnormalities pahachanna , jo rog dikhane wale pattern se alag hote hai.\n",
    "3.Cybersecurity - Identifying the Malicious software and activities by analyzing the network traffic and system logs for unusual patterns.\n",
    "4.Equipment Health Monitoring - Identifying potential equipment failures by analyzing sensor data for deviation from normal operating conditions.\n",
    "5.Network intrusion detection - Identifying anomalous network traffic that might indecate security breaches by analyzing patterns in network activities. \n",
    "\n",
    "Benefits of Unsupervised Anomaly Detection:\n",
    "\n",
    "No labeled data needed: Unlike supervised learning, unsupervised methods don't require labeled examples of anomalies, making them suitable for situations where labeled data is scarce or unavailable.\n",
    "\n",
    "Adapts to changing patterns: Unsupervised algorithms can automatically adapt to changes in the underlying data distribution, continuously updating their understanding of normality and identifying new anomalies that deviate from evolving patterns.\n",
    "\n",
    "Efficient for large datasets: Unsupervised algorithms can efficiently handle large datasets without requiring significant computational resources or manual intervention.\n",
    "Challenges of Unsupervised Anomaly Detection:\n",
    "\n",
    "Defining \"normal\": Determining the baseline for \"normal\" behavior can be challenging, especially in complex or dynamic systems.\n",
    "\n",
    "Tuning parameters: Finding the optimal parameters for anomaly detection algorithms can be complex and require experimentation.\n",
    "\n",
    "Interpretability: Understanding the reasons behind an anomaly detection decision can be difficult, particularly with complex algorithms.\n"
   ]
  },
  {
   "cell_type": "markdown",
   "metadata": {},
   "source": [
    "Answer8.\n",
    "Commonly Used Supervised and Unsupervised Learning Algorithms (Used in both domains):\n",
    "K-means Clustering\n",
    "Hierarchical Clustering\n",
    "DBSCAN Clustering\n",
    "Principal Component Analysis (PCA)\n",
    "Independent Component Analysis (ICA)\n",
    "Locally Linear Embedding (LLE)\n",
    "t-SNE (t-Distributed Stochastic Neighbor Embedding)\n",
    "UMAP (Uniform Manifold Approximation and Projection)\n",
    "Isolation Forest\n",
    "Local Outlier Factor (LOF)\n",
    "Autoencoders\n",
    "Generative Adversarial Networks (GANs) "
   ]
  },
  {
   "cell_type": "markdown",
   "metadata": {},
   "source": []
  }
 ],
 "metadata": {
  "language_info": {
   "name": "python"
  }
 },
 "nbformat": 4,
 "nbformat_minor": 2
}
